{
 "cells": [
  {
   "cell_type": "code",
   "execution_count": 2,
   "id": "314eb453-a944-41e4-b495-de726e6cc2cd",
   "metadata": {},
   "outputs": [],
   "source": [
    "import findspark\n",
    "findspark.init()\n",
    "\n",
    "from pyspark.sql import SparkSession\n",
    "from pyspark.sql.functions import from_unixtime, to_date, col, current_timestamp\n",
    "import socket # 引入 socket 库来获取本机IP\n",
    "\n",
    "def get_host_ip():\n",
    "    \"\"\"获取本机在局域网中的IP地址\"\"\"\n",
    "    s = None\n",
    "    try:\n",
    "        s = socket.socket(socket.AF_INET, socket.SOCK_DGRAM)\n",
    "        # 连接到一个公共DNS，但这并不会真的发送数据\n",
    "        s.connect(('8.8.8.8', 80))\n",
    "        ip = s.getsockname()[0]\n",
    "    finally:\n",
    "        if s:\n",
    "            s.close()\n",
    "    return ip\n",
    "\n",
    "def setup_spark_session_host_driver(warehouse_bucket):\n",
    "    \"\"\"\n",
    "    配置并返回一个 SparkSession。\n",
    "    这个版本配置为从 Host (本机) 作为 Driver 连接到 K8s 集群。\n",
    "    \"\"\"\n",
    "    driver_host_ip = get_host_ip()\n",
    "    print(f\"检测到本机 Driver IP 地址为: {driver_host_ip}\")\n",
    "\n",
    "    # PostgreSQL Metastore 连接信息 (保持不变)\n",
    "    PG_HOST = \"mlflow-postgres-postgresql.default.svc.cluster.local\"\n",
    "    MINIO_HOST = \"http://minio.default.svc.cluster.local\"\n",
    "    \n",
    "    # MINIO_HOST = \"http://localhost\"    \n",
    "    # PG_HOST = \"localhost\"\n",
    "    PG_PORT = \"5432\"\n",
    "    PG_DATABASE = \"spark\"\n",
    "    PG_USER = \"mlflow_user\"\n",
    "    PG_PASSWORD = \"mlflow_password\"\n",
    "\n",
    "    \n",
    "\n",
    "        # K8s 和 Jar 挂载配置\n",
    "    local_jar_path = \"C:\\\\Users\\\\30630\\\\.ivy2.5.2\\\\jars\\\\*\" \n",
    "    host_jar_path_in_k8s = \"/run/desktop/mnt/host/c/Users/30630/.ivy2.5.2/jars\"\n",
    "    mount_path_in_container = \"/opt/spark/jars-pv\" \n",
    "    \n",
    "\n",
    "            # .config(\"spark.jars.packages\", \",\".join(required_packages))\n",
    "    print(\"开始构建 Host Driver 模式的 SparkSession...\")\n",
    "    \n",
    "    spark = (\n",
    "        SparkSession.builder\n",
    "        .appName(\"Host-Driver-MovieLens-ETL\")\n",
    "        .enableHiveSupport()\n",
    "\n",
    "        # --- K8s, Classpath, Mounts, S3 配置 ---\n",
    "        .master(\"k8s://\") \n",
    "        .config(\"spark.kubernetes.container.image\", \"my-spark-jupyter:latest\")\n",
    "        .config(\"spark.kubernetes.authenticate.driver.serviceAccountName\", \"spark-operator-spark\")\n",
    "        \n",
    "        # 将所有依赖项配置在一起，用逗号分隔\n",
    "\n",
    "        \n",
    "        .config(\"spark.driver.extraJavaOptions\", \"-Dkubernetes.trust.certificates=true\")\n",
    "        \n",
    "        .config(\"spark.driver.host\", driver_host_ip)\n",
    "        .config(\"spark.driver.bindAddress\", \"0.0.0.0\")\n",
    "\n",
    "                # 我们仍然保留 extraClassPath，用于加载 S3 连接器等其他所有本地 JAR 包\n",
    "        .config(\"spark.driver.extraClassPath\", f\"{local_jar_path}\")\n",
    "        \n",
    "        # Executor 的配置也使用修正后的正确路径进行挂载\n",
    "        .config(\"spark.executor.extraClassPath\", f\"{mount_path_in_container}/*\")\n",
    "        .config(\"spark.kubernetes.executor.volumes.hostPath.shared-jars-hostpath.options.path\", host_jar_path_in_k8s)\n",
    "        .config(\"spark.kubernetes.executor.volumes.hostPath.shared-jars-hostpath.mount.path\", mount_path_in_container)\n",
    "\n",
    "        # S3 和 Hive Metastore 配置保持不变... \n",
    "        .config(\"spark.hadoop.fs.s3a.endpoint\", f\"{MINIO_HOST}:9000\")\n",
    "        .config(\"spark.hadoop.fs.s3a.access.key\", \"cXFVWCBKY6xlUVjuc8Qk\")\n",
    "        .config(\"spark.hadoop.fs.s3a.secret.key\", \"Hx1pYxR6sCHo4NAXqRZ1jlT8Ue6SQk6BqWxz7GKY\")\n",
    "        .config(\"spark.hadoop.fs.s3a.path.style.access\", \"true\")\n",
    "        .config(\"spark.sql.catalogImplementation\", \"hive\")\n",
    "        .config(\"spark.hadoop.javax.jdo.option.ConnectionDriverName\", \"org.postgresql.Driver\")\n",
    "        .config(\"spark.hadoop.javax.jdo.option.ConnectionURL\", f\"jdbc:postgresql://{PG_HOST}:{PG_PORT}/{PG_DATABASE}\")\n",
    "        .config(\"spark.hadoop.javax.jdo.option.ConnectionUserName\", PG_USER)\n",
    "        .config(\"spark.hadoop.javax.jdo.option.ConnectionPassword\", PG_PASSWORD)\n",
    "        .config(\"spark.hadoop.datanucleus.autoCreateSchema\", \"true\")\n",
    "        .config(\"spark.hadoop.datanucleus.autoCreateTables\", \"true\")\n",
    "        .config(\"spark.hadoop.datanucleus.fixedDatastore\", \"false\")\n",
    "        .config(\"spark.hadoop.hive.metastore.schema.verification\", \"false\")\n",
    "        .config(\"spark.sql.warehouse.dir\", f\"s3a://{warehouse_bucket}/\")\n",
    "        \n",
    "        .getOrCreate()\n",
    "    )\n",
    "    print(\"✅ Host Driver SparkSession 构建成功！\")\n",
    "    return spark\n",
    "\n",
    "    # --- 定义存储位置 ---\n",
    "SOURCE_DATA_BUCKET = \"movielens\"        # 存放源CSV文件的Bucket\n",
    "WAREHOUSE_BUCKET = \"spark-warehouse\"    # 存放处理后的Parquet表数据的Bucket\n",
    "\n",
    "# 设置SparkSession，并指定数据仓库的位置\n",
    "spark = setup_spark_session_host_driver(WAREHOUSE_BUCKET)\n",
    "spark.sql(f\"USE raw_data\")\n",
    "spark.sql(f\"select * from raw_data.movielens_movies limit 10\").count()"
   ]
  },
  {
   "cell_type": "code",
   "execution_count": 3,
   "id": "ae3bce0c-58e6-49e3-8ce6-64ac1965c6b6",
   "metadata": {},
   "outputs": [
    {
     "name": "stdout",
     "output_type": "stream",
     "text": [
      "检测到本机 Driver IP 地址为: 198.18.0.1\n",
      "开始构建 Host Driver 模式的 SparkSession...\n",
      "✅ Host Driver SparkSession 构建成功！\n"
     ]
    }
   ],
   "source": []
  },
  {
   "cell_type": "code",
   "execution_count": 5,
   "id": "a966cfeb-3f40-499c-acc3-4b4ff029ab2a",
   "metadata": {},
   "outputs": [
    {
     "data": {
      "text/plain": [
       "DataFrame[]"
      ]
     },
     "execution_count": 5,
     "metadata": {},
     "output_type": "execute_result"
    }
   ],
   "source": []
  },
  {
   "cell_type": "code",
   "execution_count": 6,
   "id": "0bb55aab-2dc1-440d-9655-a4bffe5b6fd1",
   "metadata": {
    "scrolled": true
   },
   "outputs": [
    {
     "data": {
      "text/plain": [
       "10"
      ]
     },
     "execution_count": 6,
     "metadata": {},
     "output_type": "execute_result"
    }
   ],
   "source": [
    "spark.sql(f\"select * from raw_data.movielens_movies limit 10\").count()"
   ]
  },
  {
   "cell_type": "code",
   "execution_count": 1,
   "id": "6baace4d-1730-40aa-8029-0898956c9585",
   "metadata": {},
   "outputs": [
    {
     "ename": "NameError",
     "evalue": "name 'spark' is not defined",
     "output_type": "error",
     "traceback": [
      "\u001b[31m---------------------------------------------------------------------------\u001b[39m",
      "\u001b[31mNameError\u001b[39m                                 Traceback (most recent call last)",
      "\u001b[36mCell\u001b[39m\u001b[36m \u001b[39m\u001b[32mIn[1]\u001b[39m\u001b[32m, line 1\u001b[39m\n\u001b[32m----> \u001b[39m\u001b[32m1\u001b[39m \u001b[43mspark\u001b[49m.stop()\n",
      "\u001b[31mNameError\u001b[39m: name 'spark' is not defined"
     ]
    }
   ],
   "source": [
    "spark.stop()"
   ]
  },
  {
   "cell_type": "code",
   "execution_count": null,
   "id": "456c4cdd-920a-4eb5-8635-d0da738b8426",
   "metadata": {},
   "outputs": [],
   "source": []
  }
 ],
 "metadata": {
  "kernelspec": {
   "display_name": "Python 3 (ipykernel)",
   "language": "python",
   "name": "python3"
  },
  "language_info": {
   "codemirror_mode": {
    "name": "ipython",
    "version": 3
   },
   "file_extension": ".py",
   "mimetype": "text/x-python",
   "name": "python",
   "nbconvert_exporter": "python",
   "pygments_lexer": "ipython3",
   "version": "3.12.6"
  }
 },
 "nbformat": 4,
 "nbformat_minor": 5
}
