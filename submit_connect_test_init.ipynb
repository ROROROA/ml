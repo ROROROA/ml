{
 "cells": [
  {
   "cell_type": "code",
   "execution_count": 12,
   "id": "2b39918d",
   "metadata": {},
   "outputs": [
    {
     "name": "stdout",
     "output_type": "stream",
     "text": [
      "The autoreload extension is already loaded. To reload it, use:\n",
      "  %reload_ext autoreload\n",
      "开发环境准备就绪！\n"
     ]
    },
    {
     "name": "stderr",
     "output_type": "stream",
     "text": [
      "[autoreload of feature_repo.feature_views failed: Traceback (most recent call last):\n",
      "  File \"C:\\Users\\30630\\AppData\\Roaming\\Python\\Python312\\site-packages\\IPython\\extensions\\autoreload.py\", line 322, in check\n",
      "    elif self.deduper_reloader.maybe_reload_module(m):\n",
      "         ^^^^^^^^^^^^^^^^^^^^^^^^^^^^^^^^^^^^^^^^^^^^\n",
      "  File \"C:\\Users\\30630\\AppData\\Roaming\\Python\\Python312\\site-packages\\IPython\\extensions\\deduperreload\\deduperreload.py\", line 545, in maybe_reload_module\n",
      "    new_source_code = f.read()\n",
      "                      ^^^^^^^^\n",
      "UnicodeDecodeError: 'gbk' codec can't decode byte 0x81 in position 277: illegal multibyte sequence\n",
      "]\n",
      "[autoreload of src.pipelines.data_pipeline failed: Traceback (most recent call last):\n",
      "  File \"C:\\Users\\30630\\AppData\\Roaming\\Python\\Python312\\site-packages\\IPython\\extensions\\autoreload.py\", line 322, in check\n",
      "    elif self.deduper_reloader.maybe_reload_module(m):\n",
      "         ^^^^^^^^^^^^^^^^^^^^^^^^^^^^^^^^^^^^^^^^^^^^\n",
      "  File \"C:\\Users\\30630\\AppData\\Roaming\\Python\\Python312\\site-packages\\IPython\\extensions\\deduperreload\\deduperreload.py\", line 545, in maybe_reload_module\n",
      "    new_source_code = f.read()\n",
      "                      ^^^^^^^^\n",
      "UnicodeDecodeError: 'gbk' codec can't decode byte 0x80 in position 54: illegal multibyte sequence\n",
      "]\n"
     ]
    }
   ],
   "source": [
    "# Cell 1: 魔法命令和导入\n",
    "%load_ext autoreload\n",
    "%autoreload 2\n",
    "\n",
    "import os\n",
    "from datetime import datetime, timedelta\n",
    "\n",
    "# 导入我们需要测试的核心任务\n",
    "# 注意：我们直接从 .py 文件中导入，而不是通过 Prefect 的 flow.run()\n",
    "from src.pipelines.data_pipeline import process_features_for_single_day\n",
    "\n",
    "print(\"开发环境准备就绪！\")\n",
    "\n"
   ]
  },
  {
   "cell_type": "code",
   "execution_count": null,
   "id": "446cc141",
   "metadata": {},
   "outputs": [
    {
     "name": "stdout",
     "output_type": "stream",
     "text": [
      "成功连接到 Spark 集群，版本: 4.0.0\n"
     ]
    }
   ],
   "source": [
    "# Cell 2: 初始化 Spark Session (使用 Spark Connect)\n",
    "# 这部分代码会连接到你远程的 K8s Spark 集群\n",
    "from pyspark.sql import SparkSession\n",
    "\n",
    "def get_spark_session() -> SparkSession:\n",
    "    \"\"\"获取或创建一个 SparkSession。\"\"\"\n",
    "    # return SparkSession.builder.appName(\"FeatureETL-MovieLens\").getOrCreate()\n",
    "\n",
    "    return SparkSession.builder.remote(\"sc://localhost:31002\").getOrCreate()\n",
    "print(f\"成功连接到 Spark 集群，版本: {spark.version}\")\n",
    "\n",
    "# 如果你用本地 Spark，则是:\n",
    "# spark = SparkSession.builder.master(\"local[*]\").appName(\"LocalDev\").getOrCreate()\n",
    "\n"
   ]
  },
  {
   "cell_type": "code",
   "execution_count": 10,
   "id": "0f21d128",
   "metadata": {},
   "outputs": [
    {
     "name": "stdout",
     "output_type": "stream",
     "text": [
      "+----------------------------+---------------------------------------------------+-------+\n",
      "|col_name                    |data_type                                          |comment|\n",
      "+----------------------------+---------------------------------------------------+-------+\n",
      "|userId                      |int                                                |NULL   |\n",
      "|movieId                     |int                                                |NULL   |\n",
      "|rating                      |float                                              |NULL   |\n",
      "|timestamp                   |bigint                                             |NULL   |\n",
      "|rating_date                 |date                                               |NULL   |\n",
      "|# Partition Information     |                                                   |       |\n",
      "|# col_name                  |data_type                                          |comment|\n",
      "|rating_date                 |date                                               |NULL   |\n",
      "|                            |                                                   |       |\n",
      "|# Detailed Table Information|                                                   |       |\n",
      "|Catalog                     |spark_catalog                                      |       |\n",
      "|Database                    |raw_data                                           |       |\n",
      "|Table                       |movielens_ratings                                  |       |\n",
      "|Owner                       |spark                                              |       |\n",
      "|Created Time                |Sun Sep 21 08:00:54 UTC 2025                       |       |\n",
      "|Last Access                 |UNKNOWN                                            |       |\n",
      "|Created By                  |Spark 4.0.0                                        |       |\n",
      "|Type                        |MANAGED                                            |       |\n",
      "|Provider                    |PARQUET                                            |       |\n",
      "|Location                    |s3a://spark-warehouse/raw_data.db/movielens_ratings|       |\n",
      "+----------------------------+---------------------------------------------------+-------+\n",
      "only showing top 20 rows\n"
     ]
    }
   ],
   "source": [
    "spark.sql(f\"DESCRIBE FORMATTED raw_data.movielens_ratings\").show(truncate=False)\n"
   ]
  },
  {
   "cell_type": "code",
   "execution_count": 11,
   "id": "2713e388",
   "metadata": {},
   "outputs": [
    {
     "name": "stdout",
     "output_type": "stream",
     "text": [
      "开始测试 process_features_for_single_day...\n",
      "\n",
      " 函数执行失败: [CONNECT_URL_NOT_SET] Cannot create a Spark Connect session because the Spark Connect remote URL has not been set. Please define the remote URL by setting either the 'spark.remote' option or the 'SPARK_REMOTE' environment variable.\n"
     ]
    }
   ],
   "source": [
    "# Cell 3: 运行你的核心任务进行测试\n",
    "# 我们在这里手动调用 process_features_for_single_day 函数\n",
    "# 它会使用我们刚刚连接好的 Spark 集群来执行\n",
    "try:\n",
    "    print(\"开始测试 process_features_for_single_day...\")\n",
    "    # 模拟一个测试日期\n",
    "    test_date = (datetime.now() - timedelta(days=50)).strftime('%Y-%m-%d')\n",
    "    test_date = \"2019-11-01\"\n",
    "    \n",
    "    # 直接调用函数，绕过了 Prefect 的 Task Runner\n",
    "    # 这样可以快速看到 Spark 的执行日志和任何报错\n",
    "    process_features_for_single_day.fn(\n",
    "        target_date_str=test_date,\n",
    "        feature_groups_to_process=[\"user_rolling_ratings\"]\n",
    "    )\n",
    "    \n",
    "    print(\"\\n 函数执行成功！\")\n",
    "\n",
    "except Exception as e:\n",
    "    print(f\"\\n 函数执行失败: {e}\")\n",
    "    # 在这里你可以进行断点调试\n",
    "\n"
   ]
  },
  {
   "cell_type": "code",
   "execution_count": null,
   "id": "ccc2701e",
   "metadata": {},
   "outputs": [],
   "source": [
    "# Cell 4: 验证结果\n",
    "# 函数执行成功后，你可以在这里用 Spark SQL 来检查输出的 Hive 表是否符合预期\n",
    "print(\"\\n验证输出数据...\")\n",
    "output_table = \"feature_store.user_rolling_ratings_historical\"\n",
    "result_df = spark.sql(f\"\"\"\n",
    "    SELECT * FROM {output_table} \n",
    "    WHERE timestamp = to_date('{test_date}', 'yyyy-MM-dd') \n",
    "    LIMIT 10\n",
    "\"\"\")\n",
    "\n",
    "result_df.show()\n",
    "\n",
    "spark.stop()"
   ]
  }
 ],
 "metadata": {
  "kernelspec": {
   "display_name": "Python 3",
   "language": "python",
   "name": "python3"
  },
  "language_info": {
   "codemirror_mode": {
    "name": "ipython",
    "version": 3
   },
   "file_extension": ".py",
   "mimetype": "text/x-python",
   "name": "python",
   "nbconvert_exporter": "python",
   "pygments_lexer": "ipython3",
   "version": "3.12.6"
  }
 },
 "nbformat": 4,
 "nbformat_minor": 5
}
